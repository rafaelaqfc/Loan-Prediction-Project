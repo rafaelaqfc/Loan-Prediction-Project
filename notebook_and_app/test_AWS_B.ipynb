{
 "cells": [
  {
   "cell_type": "code",
   "execution_count": 1,
   "metadata": {},
   "outputs": [
    {
     "name": "stdout",
     "output_type": "stream",
     "text": [
      "<Response [200]>\n",
      "Request successful\n",
      "[[0.1321729849165243, 0.8678270150834757]]\n"
     ]
    }
   ],
   "source": [
    "import requests as r\n",
    "import pandas as pd\n",
    "import json\n",
    "\n",
    "base_url = 'http://ec2-54-215-68-230.us-west-1.compute.amazonaws.com:5002/predicting'\n",
    "json_data = {'Gender': 0,\n",
    " 'Married': 1,\n",
    " 'Dependents': 0,\n",
    " 'Education': 1,\n",
    " 'Self_Employed': 0,\n",
    " 'Credit_History': 1,\n",
    " 'Property_Area': 2,\n",
    " 'LoanAmount_log': 3.737670,\n",
    " 'Total_Income': 8.220403,\n",
    " 'Loan_Amount_Term_Log': 5.192957}\n",
    "\n",
    "response = r.post(base_url, json=json_data)\n",
    "print(response)\n",
    "\n",
    "if response.status_code == 200:\n",
    "    print('Request successful')\n",
    "    print(response.json())\n",
    "else:\n",
    "    print('Request failed')\n",
    "    print(response.json())\n"
   ]
  },
  {
   "cell_type": "code",
   "execution_count": null,
   "metadata": {},
   "outputs": [],
   "source": []
  }
 ],
 "metadata": {
  "kernelspec": {
   "display_name": "Python (env_tensorflow)",
   "language": "python",
   "name": "env_tensorflow"
  },
  "language_info": {
   "codemirror_mode": {
    "name": "ipython",
    "version": 3
   },
   "file_extension": ".py",
   "mimetype": "text/x-python",
   "name": "python",
   "nbconvert_exporter": "python",
   "pygments_lexer": "ipython3",
   "version": "3.10.9"
  },
  "orig_nbformat": 4
 },
 "nbformat": 4,
 "nbformat_minor": 2
}
